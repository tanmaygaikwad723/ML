{
 "cells": [
  {
   "cell_type": "code",
   "execution_count": 1,
   "metadata": {
    "id": "P-RPkVRyLECx"
   },
   "outputs": [],
   "source": [
    "import numpy as np\n",
    "import pandas as pd\n",
    "import random\n",
    "from sklearn.datasets import make_regression"
   ]
  },
  {
   "cell_type": "code",
   "execution_count": 2,
   "metadata": {
    "id": "Okrk0E3qLaoo"
   },
   "outputs": [],
   "source": [
    "x, y = make_regression(n_samples=100, n_features=2, noise=80, random_state=42)"
   ]
  },
  {
   "cell_type": "code",
   "execution_count": 3,
   "metadata": {
    "id": "ftpesySiWfcj"
   },
   "outputs": [],
   "source": [
    "class Linear_Regression:\n",
    "\n",
    "  def __init__(self):\n",
    "    self.intercept = None\n",
    "    self.coeffecients = None\n",
    "    self.X = None\n",
    "    self.y = None\n",
    "\n",
    "  def fit(self, x, y, eta=0.001):\n",
    "    self.X = np.array(x)\n",
    "    self.y = y.reshape(self.X.shape[0], 1)\n",
    "    self.intercept = random.sample(range(0, 10), 1)[0]\n",
    "    self.coeffecients = np.array(random.sample(range(0, 10), self.X.shape[1])).reshape(self.X.shape[1], 1)\n",
    "    costs_iterated = np.array([])\n",
    "    weights_iterated = []\n",
    "    for i in range(1000):\n",
    "      ypred = self.X @ self.coeffecients + self.intercept\n",
    "      self.intercept = self.intercept - (0.25 *(1/self.X.shape[0])*np.sum(ypred - self.y))\n",
    "      self.coeffecients = self.coeffecients - (0.25 * (1/self.X.shape[0])*(self.X.T @ (ypred - self.y)))\n",
    "      cost = (1/(2*self.X.shape[0]))*np.sum(np.square((self.X @ self.coeffecients + self.intercept) - y))\n",
    "      weights_iterated.append([self.intercept, self.coeffecients])\n",
    "      costs_iterated = np.append(costs_iterated, cost)\n",
    "      indice = np.argmin(costs_iterated)\n",
    "      self.intercept = weights_iterated[indice][0]\n",
    "      self.coeffecients = weights_iterated[indice][1]\n",
    "    return self.intercept, self.coeffecients\n",
    "\n",
    "  def predict(self, x):\n",
    "     return x @ self.coeffecients + self.intercept"
   ]
  },
  {
   "cell_type": "code",
   "execution_count": 4,
   "metadata": {
    "id": "eCaMdRFzm9TC"
   },
   "outputs": [],
   "source": [
    "lr = Linear_Regression()"
   ]
  },
  {
   "cell_type": "code",
   "execution_count": 5,
   "metadata": {
    "colab": {
     "base_uri": "https://localhost:8080/"
    },
    "id": "rrba33nyrrny",
    "outputId": "95141ca3-952e-4378-8011-1dcc9d131371"
   },
   "outputs": [
    {
     "data": {
      "text/plain": [
       "(4.9434980014812275,\n",
       " array([[15.07148484],\n",
       "        [20.27167582]]))"
      ]
     },
     "execution_count": 5,
     "metadata": {},
     "output_type": "execute_result"
    }
   ],
   "source": [
    "lr.fit(x, y)"
   ]
  },
  {
   "cell_type": "code",
   "execution_count": 6,
   "metadata": {
    "colab": {
     "base_uri": "https://localhost:8080/"
    },
    "id": "yX6PM3furxaU",
    "outputId": "19773e1b-2882-41d4-e134-34d8982120eb"
   },
   "outputs": [
    {
     "data": {
      "text/plain": [
       "array([1464.98640259])"
      ]
     },
     "execution_count": 6,
     "metadata": {},
     "output_type": "execute_result"
    }
   ],
   "source": [
    "estimates = np.array([65.32, 23.46])\n",
    "lr.predict(estimates)"
   ]
  },
  {
   "cell_type": "code",
   "execution_count": null,
   "metadata": {
    "id": "y5TuJ8pNuVQY"
   },
   "outputs": [],
   "source": []
  }
 ],
 "metadata": {
  "colab": {
   "provenance": []
  },
  "kernelspec": {
   "display_name": "Python 3 (ipykernel)",
   "language": "python",
   "name": "python3"
  },
  "language_info": {
   "codemirror_mode": {
    "name": "ipython",
    "version": 3
   },
   "file_extension": ".py",
   "mimetype": "text/x-python",
   "name": "python",
   "nbconvert_exporter": "python",
   "pygments_lexer": "ipython3",
   "version": "3.11.7"
  }
 },
 "nbformat": 4,
 "nbformat_minor": 4
}
