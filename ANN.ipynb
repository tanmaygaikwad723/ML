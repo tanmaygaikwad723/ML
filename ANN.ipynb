{
 "cells": [
  {
   "cell_type": "code",
   "execution_count": 79,
   "metadata": {},
   "outputs": [],
   "source": [
    "import numpy as np\n",
    "import random\n",
    "from typing import Callable\n",
    "from sklearn.datasets import load_iris\n",
    "from sklearn.model_selection import train_test_split\n",
    "from sklearn.preprocessing import StandardScaler"
   ]
  },
  {
   "cell_type": "code",
   "execution_count": 104,
   "metadata": {},
   "outputs": [],
   "source": [
    "class Neuron:\n",
    "    def __init__(self, act_func:Callable[[float], float]=None, input_neuron:bool=False):\n",
    "        if input_neuron:\n",
    "            self.weights = np.array([1])\n",
    "            self.inp_neuron = input_neuron\n",
    "            self.act_func = None\n",
    "        else:\n",
    "            self.weights = None\n",
    "            self.inp_neuron = False\n",
    "            self.act_func = act_func\n",
    "\n",
    "    def compile(self, weights_sz:int):\n",
    "        if self.act_func:\n",
    "            self.weights = np.array([random.uniform(0, 10) for _ in range(weights_sz)])\n",
    "\n",
    "    \n",
    "    def forward(self, inp):\n",
    "        # print(self.weights)\n",
    "        # print(inp)\n",
    "        z = self.weights.T @ inp\n",
    "        if self.act_func:\n",
    "            return self.act_func(z)\n",
    "        else:\n",
    "            return z"
   ]
  },
  {
   "cell_type": "code",
   "execution_count": 105,
   "metadata": {},
   "outputs": [],
   "source": [
    "class Layer:\n",
    "    def sigmoid(self, x:float)-> float:\n",
    "        return 1/(1+np.exp(-x))\n",
    "    \n",
    "    def __init__(self, neurons:int, input_layer:bool=False, act_fctn:str=None, name:str=None):\n",
    "        self.name = name\n",
    "        if input_layer:\n",
    "            self.inp_layer = input_layer\n",
    "            self.neurons = [Neuron(act_fctn, True) for i in range(neurons)]\n",
    "        else:\n",
    "            if act_fctn == \"sigmoid\":\n",
    "                self.inp_layer = input_layer               \n",
    "                self.neurons = [Neuron(act_func=self.sigmoid) for i in range(neurons)]\n",
    "            else:\n",
    "                self.inp_layer = input_layer\n",
    "                self.neurons = [Neuron() for i in range(neurons)]\n",
    "    \n",
    "    def __repr__(self):\n",
    "        return self.name\n",
    "\n",
    "    def compile(self, childs:int=None):\n",
    "        print(f\"{self}:{len(self.neurons)}\")\n",
    "        if not self.inp_layer:\n",
    "            for i in self.neurons:\n",
    "                i.compile(childs)\n",
    "        return len(self.neurons)\n",
    "\n",
    "    def fit(self, inp):\n",
    "        out_list = []\n",
    "        if self.inp_layer:\n",
    "            for i in range(len(self.neurons)):\n",
    "                out_list.append(self.neurons[i].forward(np.array([inp[0][i]])))\n",
    "                print(out_list)\n",
    "            return out_list\n",
    "        else:\n",
    "            for i in self.neurons:\n",
    "                out_list.append(i.forward(inp))\n",
    "            return out_list"
   ]
  },
  {
   "cell_type": "code",
   "execution_count": 106,
   "metadata": {},
   "outputs": [],
   "source": [
    "class Tangrad:    \n",
    "    def __init__(self, layer:list[Layer]=[]):\n",
    "        self.layer = layer\n",
    "    \n",
    "    def add_layer(self, layer:Layer):\n",
    "        self.layer.append(layer)\n",
    "    \n",
    "    def compile(self):\n",
    "        compiled = 0\n",
    "        for i in range(len(self.layer)):\n",
    "            if i == 0:\n",
    "                compiled = self.layer[i].compile()\n",
    "            else:\n",
    "                compiled = self.layer[i].compile(compiled)\n",
    "        \n",
    "    def fit(self, inp):\n",
    "        prev_out = []\n",
    "        for i in self.layer:\n",
    "            if i == self.layer[0]:\n",
    "                prev_out = i.fit(inp)\n",
    "                print(f\"output of {i} layer : {prev_out}\")\n",
    "            else:\n",
    "                prev_out = np.array(i.fit(prev_out))\n",
    "                print(f\"output of {i} layer : {prev_out}\")\n",
    "        print(prev_out)"
   ]
  },
  {
   "cell_type": "code",
   "execution_count": 107,
   "metadata": {},
   "outputs": [],
   "source": [
    "Ann = Tangrad()"
   ]
  },
  {
   "cell_type": "code",
   "execution_count": 108,
   "metadata": {},
   "outputs": [],
   "source": [
    "layer_0 = Layer(4, True, None,\"layer 0\")\n",
    "layer_1 = Layer(20, False, \"sigmoid\",\"layer 1\")\n",
    "layer_2 = Layer(10, False, \"sigmoid\",\"layer 2\")\n",
    "layer_3 = Layer(1, False, \"sigmoid\",\"layer 3\")\n",
    "Ann.add_layer(layer_0)\n",
    "Ann.add_layer(layer_1)\n",
    "Ann.add_layer(layer_2)\n",
    "Ann.add_layer(layer_3)"
   ]
  },
  {
   "cell_type": "code",
   "execution_count": 109,
   "metadata": {},
   "outputs": [
    {
     "name": "stdout",
     "output_type": "stream",
     "text": [
      "layer 0:4\n",
      "layer 1:20\n",
      "layer 2:10\n",
      "layer 3:1\n"
     ]
    }
   ],
   "source": [
    "Ann.compile()"
   ]
  },
  {
   "cell_type": "code",
   "execution_count": 67,
   "metadata": {},
   "outputs": [],
   "source": [
    "iris  = load_iris()"
   ]
  },
  {
   "cell_type": "code",
   "execution_count": 29,
   "metadata": {},
   "outputs": [],
   "source": [
    "x = iris.data[:, :]\n",
    "y = iris.target_names[iris.target] == \"virginica\"\n",
    "x_train, x_test, y_train, y_test = train_test_split(x, y, random_state=85)"
   ]
  },
  {
   "cell_type": "code",
   "execution_count": 31,
   "metadata": {},
   "outputs": [],
   "source": [
    "scaler = StandardScaler()\n",
    "traindata = scaler.fit_transform(x_train)\n",
    "testdata = scaler.fit_transform(x_test)"
   ]
  },
  {
   "cell_type": "code",
   "execution_count": 111,
   "metadata": {},
   "outputs": [
    {
     "name": "stdout",
     "output_type": "stream",
     "text": [
      "[-1.0190456254199358]\n",
      "[-1.0190456254199358, 0.7977480099732124]\n",
      "[-1.0190456254199358, 0.7977480099732124, -1.2726164710416852]\n",
      "[-1.0190456254199358, 0.7977480099732124, -1.2726164710416852, -1.0882512570775875]\n",
      "output of layer 0 layer : [-1.0190456254199358, 0.7977480099732124, -1.2726164710416852, -1.0882512570775875]\n",
      "output of layer 1 layer : [2.42792391e-07 7.98696172e-03 1.26491073e-08 2.85165048e-08\n",
      " 6.58137754e-08 2.47375748e-05 1.49799015e-08 1.23807490e-05\n",
      " 5.28378968e-05 7.01928590e-04 2.36117193e-12 6.84168109e-05\n",
      " 9.55389958e-07 1.23741519e-07 1.34468086e-06 3.91581217e-06\n",
      " 5.97583742e-10 7.19500341e-09 6.54924793e-05 3.01633147e-04]\n",
      "output of layer 2 layer : [0.50906716 0.51393746 0.51032417 0.51017263 0.51402307 0.52059053\n",
      " 0.50697937 0.50609161 0.50750165 0.50838353]\n",
      "output of layer 3 layer : [1.]\n",
      "[1.]\n"
     ]
    }
   ],
   "source": [
    "Ann.fit(traindata)"
   ]
  }
 ],
 "metadata": {
  "kernelspec": {
   "display_name": "ml_prac",
   "language": "python",
   "name": "python3"
  },
  "language_info": {
   "codemirror_mode": {
    "name": "ipython",
    "version": 3
   },
   "file_extension": ".py",
   "mimetype": "text/x-python",
   "name": "python",
   "nbconvert_exporter": "python",
   "pygments_lexer": "ipython3",
   "version": "3.12.8"
  }
 },
 "nbformat": 4,
 "nbformat_minor": 2
}
