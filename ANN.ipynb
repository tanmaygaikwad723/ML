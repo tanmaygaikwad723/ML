{
 "cells": [
  {
   "cell_type": "code",
   "execution_count": 1,
   "metadata": {},
   "outputs": [],
   "source": [
    "import numpy as np\n",
    "import random\n",
    "from typing import Callable\n",
    "from sklearn.datasets import load_iris\n",
    "from sklearn.model_selection import train_test_split\n",
    "from sklearn.preprocessing import StandardScaler"
   ]
  },
  {
   "cell_type": "code",
   "execution_count": 78,
   "metadata": {},
   "outputs": [],
   "source": [
    "class Neuron:\n",
    "    def __init__(self, act_func:Callable[[float], float]=None):\n",
    "        self.weights = None\n",
    "        self.act_func = act_func\n",
    "\n",
    "    def compile(self, weights_sz:int):\n",
    "        self.weights = np.array([random.uniform(0, 10) for _ in range(weights_sz)]).reshape(weights_sz, 1)\n",
    "\n",
    "    def forward(self, inp):\n",
    "        z = inp @ self.weights\n",
    "        return self.act_func(z)"
   ]
  },
  {
   "cell_type": "code",
   "execution_count": 79,
   "metadata": {},
   "outputs": [],
   "source": [
    "class Layer:\n",
    "    def sigmoid(self, x:float)-> float:\n",
    "        return 1/(1+np.exp(-x))\n",
    "    \n",
    "    def __init__(self, neurons:int, act_fctn:str=None, name:str=None):\n",
    "        self.name = name\n",
    "        if act_fctn == \"sigmoid\":\n",
    "            self.neurons = [Neuron(act_func=self.sigmoid) for i in range(neurons)]\n",
    "\n",
    "    def __repr__(self):\n",
    "        return self.name\n",
    "\n",
    "    def compile(self, childs:int=None):\n",
    "        for i in self.neurons:\n",
    "            i.compile(childs)\n",
    "        return len(self.neurons)\n",
    "\n",
    "    def fit(self, inp):\n",
    "        return np.squeeze(np.array([i.forward(inp) for i in self.neurons]), axis=2).T"
   ]
  },
  {
   "cell_type": "code",
   "execution_count": 80,
   "metadata": {},
   "outputs": [],
   "source": [
    "class Tangrad:    \n",
    "    def __init__(self, layer:list[Layer]=[], inp_features:int=None):\n",
    "        self.layer = layer\n",
    "        self.inp_features = inp_features\n",
    "    \n",
    "    def add_layer(self, layer:Layer):\n",
    "        self.layer.append(layer)\n",
    "    \n",
    "    def compile(self):\n",
    "        compiled = 0\n",
    "        for i in range(len(self.layer)):\n",
    "            if i == 0:\n",
    "                compiled = self.layer[i].compile(self.inp_features)\n",
    "            else:\n",
    "                compiled = self.layer[i].compile(compiled)\n",
    "        \n",
    "    def fit(self, inp):\n",
    "        for i in self.layer:\n",
    "            inp = i.fit(inp)\n",
    "        return inp"
   ]
  },
  {
   "cell_type": "code",
   "execution_count": 81,
   "metadata": {},
   "outputs": [],
   "source": [
    "Ann = Tangrad(inp_features=4)"
   ]
  },
  {
   "cell_type": "code",
   "execution_count": 82,
   "metadata": {},
   "outputs": [],
   "source": [
    "layer_0 = Layer(4, \"sigmoid\",\"layer 0\")\n",
    "layer_1 = Layer(20, \"sigmoid\",\"layer 1\")\n",
    "layer_2 = Layer(10, \"sigmoid\",\"layer 2\")\n",
    "layer_3 = Layer(1, \"sigmoid\",\"layer 3\")\n",
    "Ann.add_layer(layer_0)\n",
    "Ann.add_layer(layer_1)\n",
    "Ann.add_layer(layer_2)\n",
    "Ann.add_layer(layer_3)"
   ]
  },
  {
   "cell_type": "code",
   "execution_count": 83,
   "metadata": {},
   "outputs": [],
   "source": [
    "Ann.compile()"
   ]
  },
  {
   "cell_type": "code",
   "execution_count": 84,
   "metadata": {},
   "outputs": [],
   "source": [
    "iris  = load_iris()"
   ]
  },
  {
   "cell_type": "code",
   "execution_count": 85,
   "metadata": {},
   "outputs": [],
   "source": [
    "x = iris.data[:, :]\n",
    "y = iris.target_names[iris.target] == \"virginica\"\n",
    "x_train, x_test, y_train, y_test = train_test_split(x, y, random_state=85)"
   ]
  },
  {
   "cell_type": "code",
   "execution_count": 86,
   "metadata": {},
   "outputs": [],
   "source": [
    "scaler = StandardScaler()\n",
    "traindata = scaler.fit_transform(x_train)\n",
    "testdata = scaler.fit_transform(x_test)"
   ]
  },
  {
   "cell_type": "code",
   "execution_count": 87,
   "metadata": {},
   "outputs": [
    {
     "data": {
      "text/plain": [
       "array([[1.],\n",
       "       [1.],\n",
       "       [1.],\n",
       "       [1.],\n",
       "       [1.],\n",
       "       [1.],\n",
       "       [1.],\n",
       "       [1.],\n",
       "       [1.],\n",
       "       [1.],\n",
       "       [1.],\n",
       "       [1.],\n",
       "       [1.],\n",
       "       [1.],\n",
       "       [1.],\n",
       "       [1.],\n",
       "       [1.],\n",
       "       [1.],\n",
       "       [1.],\n",
       "       [1.],\n",
       "       [1.],\n",
       "       [1.],\n",
       "       [1.],\n",
       "       [1.],\n",
       "       [1.],\n",
       "       [1.],\n",
       "       [1.],\n",
       "       [1.],\n",
       "       [1.],\n",
       "       [1.],\n",
       "       [1.],\n",
       "       [1.],\n",
       "       [1.],\n",
       "       [1.],\n",
       "       [1.],\n",
       "       [1.],\n",
       "       [1.],\n",
       "       [1.],\n",
       "       [1.],\n",
       "       [1.],\n",
       "       [1.],\n",
       "       [1.],\n",
       "       [1.],\n",
       "       [1.],\n",
       "       [1.],\n",
       "       [1.],\n",
       "       [1.],\n",
       "       [1.],\n",
       "       [1.],\n",
       "       [1.],\n",
       "       [1.],\n",
       "       [1.],\n",
       "       [1.],\n",
       "       [1.],\n",
       "       [1.],\n",
       "       [1.],\n",
       "       [1.],\n",
       "       [1.],\n",
       "       [1.],\n",
       "       [1.],\n",
       "       [1.],\n",
       "       [1.],\n",
       "       [1.],\n",
       "       [1.],\n",
       "       [1.],\n",
       "       [1.],\n",
       "       [1.],\n",
       "       [1.],\n",
       "       [1.],\n",
       "       [1.],\n",
       "       [1.],\n",
       "       [1.],\n",
       "       [1.],\n",
       "       [1.],\n",
       "       [1.],\n",
       "       [1.],\n",
       "       [1.],\n",
       "       [1.],\n",
       "       [1.],\n",
       "       [1.],\n",
       "       [1.],\n",
       "       [1.],\n",
       "       [1.],\n",
       "       [1.],\n",
       "       [1.],\n",
       "       [1.],\n",
       "       [1.],\n",
       "       [1.],\n",
       "       [1.],\n",
       "       [1.],\n",
       "       [1.],\n",
       "       [1.],\n",
       "       [1.],\n",
       "       [1.],\n",
       "       [1.],\n",
       "       [1.],\n",
       "       [1.],\n",
       "       [1.],\n",
       "       [1.],\n",
       "       [1.],\n",
       "       [1.],\n",
       "       [1.],\n",
       "       [1.],\n",
       "       [1.],\n",
       "       [1.],\n",
       "       [1.],\n",
       "       [1.],\n",
       "       [1.],\n",
       "       [1.],\n",
       "       [1.],\n",
       "       [1.],\n",
       "       [1.]])"
      ]
     },
     "execution_count": 87,
     "metadata": {},
     "output_type": "execute_result"
    }
   ],
   "source": [
    "Ann.fit(traindata)"
   ]
  },
  {
   "cell_type": "code",
   "execution_count": null,
   "metadata": {},
   "outputs": [],
   "source": []
  }
 ],
 "metadata": {
  "kernelspec": {
   "display_name": "ml_prac",
   "language": "python",
   "name": "python3"
  },
  "language_info": {
   "codemirror_mode": {
    "name": "ipython",
    "version": 3
   },
   "file_extension": ".py",
   "mimetype": "text/x-python",
   "name": "python",
   "nbconvert_exporter": "python",
   "pygments_lexer": "ipython3",
   "version": "3.12.2"
  }
 },
 "nbformat": 4,
 "nbformat_minor": 2
}
