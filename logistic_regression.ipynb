{
 "cells": [
  {
   "cell_type": "code",
   "metadata": {
    "ExecuteTime": {
     "end_time": "2024-09-19T10:17:04.078956Z",
     "start_time": "2024-09-19T10:17:03.281401Z"
    }
   },
   "source": [
    "import numpy as np\n",
    "import random\n",
    "from sklearn.datasets import load_iris\n",
    "from sklearn.model_selection import train_test_split\n",
    "iris = load_iris(as_frame=True)\n",
    "from sklearn.preprocessing import add_dummy_feature\n",
    "from sklearn.preprocessing import StandardScaler\n",
    "from sklearn.metrics import precision_score, recall_score\n",
    "from sklearn.metrics import confusion_matrix"
   ],
   "outputs": [],
   "execution_count": 1
  },
  {
   "cell_type": "code",
   "metadata": {
    "ExecuteTime": {
     "end_time": "2024-09-19T10:17:40.938025Z",
     "start_time": "2024-09-19T10:17:40.927984Z"
    }
   },
   "source": [
    "class Simple_logistic_regression:\n",
    "    def __init__(self) -> None:\n",
    "        self.alpha = None\n",
    "        self.x = None\n",
    "        self.y = None\n",
    "        self.weights = None\n",
    "        self.coef_ = None\n",
    "        self.intercept = None\n",
    "        \n",
    "    def find_sigma(self, x):\n",
    "        return 1/(1+np.exp(-x))\n",
    "\n",
    "    def fit(self, x, y, alpha=0.01):\n",
    "        self.x, self.y, self.alpha = x, y, alpha\n",
    "        costs = np.array([])\n",
    "        params_iterated = []\n",
    "        self.weights = np.array(random.sample(range(0,10), 2)).reshape(2, 1)\n",
    "        strt_alpha = alpha\n",
    "        for i in range(1000):\n",
    "            if i == 0:\n",
    "                continue\n",
    "            elif i%10 == 0:\n",
    "                self.alpha = strt_alpha/i\n",
    "            rand_indx = np.random.randint(x.shape[0])\n",
    "            sigma = self.find_sigma(x[rand_indx].reshape(1, 2) @ self.weights)\n",
    "            cost = -(y[rand_indx]*np.log(sigma) + (1-y[rand_indx])*np.log(1-sigma))\n",
    "            costs = np.append(cost, costs)\n",
    "            params_iterated.append(self.weights.flatten())\n",
    "            self.weights = self.weights - self.alpha*(-(y[rand_indx] - sigma)*x[rand_indx]).reshape(2, 1)\n",
    "        params_iterated = np.array(params_iterated)\n",
    "        min_indx = np.argmin(costs)\n",
    "        self.intercept = params_iterated[min_indx][0]\n",
    "        self.coef_ = params_iterated[min_indx][1]\n",
    "        self.weights = params_iterated[min_indx].reshape(2,1)\n",
    "        \n",
    "    def predict(self, x):\n",
    "        y = self.find_sigma(x @ self.weights)\n",
    "        y[y>0.9945] = 1\n",
    "        y[y<0.9945] = 0\n",
    "        return y"
   ],
   "outputs": [],
   "execution_count": 8
  },
  {
   "cell_type": "code",
   "metadata": {
    "ExecuteTime": {
     "end_time": "2024-09-19T10:17:42.415838Z",
     "start_time": "2024-09-19T10:17:42.407241Z"
    }
   },
   "source": [
    "x = iris.data[[\"petal width (cm)\"]].values\n",
    "y = iris.target_names[iris.target] == \"virginica\"\n",
    "x_train, x_test, y_train, y_test = train_test_split(x, y, random_state=85)"
   ],
   "outputs": [],
   "execution_count": 9
  },
  {
   "cell_type": "code",
   "metadata": {
    "ExecuteTime": {
     "end_time": "2024-09-19T10:17:44.092658Z",
     "start_time": "2024-09-19T10:17:44.084688Z"
    }
   },
   "source": [
    "scaler = StandardScaler()\n",
    "traindata = scaler.fit_transform(x_train)\n",
    "testdata = scaler.fit_transform(x_test)\n",
    "x_train = add_dummy_feature(traindata)\n",
    "x_test = add_dummy_feature(testdata)\n",
    "x_test = x_test.reshape(x_test.shape[0], 2)\n",
    "y_train = y_train.reshape(x_train.shape[0], 1)\n",
    "y_test = y_test.reshape(x_test.shape[0], 1)"
   ],
   "outputs": [],
   "execution_count": 10
  },
  {
   "cell_type": "code",
   "metadata": {
    "ExecuteTime": {
     "end_time": "2024-09-19T10:17:45.546279Z",
     "start_time": "2024-09-19T10:17:45.477415Z"
    }
   },
   "source": [
    "slr = Simple_logistic_regression()\n",
    "slr.fit(x_train, y_train, alpha=0.04)"
   ],
   "outputs": [],
   "execution_count": 11
  },
  {
   "cell_type": "code",
   "metadata": {
    "ExecuteTime": {
     "end_time": "2024-09-19T10:17:47.355389Z",
     "start_time": "2024-09-19T10:17:47.350719Z"
    }
   },
   "source": [
    "x_train_pred = slr.predict(x_train)\n",
    "x_test_pred = slr.predict(x_test)"
   ],
   "outputs": [],
   "execution_count": 12
  },
  {
   "cell_type": "code",
   "metadata": {
    "ExecuteTime": {
     "end_time": "2024-09-19T10:17:48.747486Z",
     "start_time": "2024-09-19T10:17:48.736477Z"
    }
   },
   "source": [
    "cm_train = confusion_matrix(y_train, x_train_pred)\n",
    "cm_test = confusion_matrix(y_test, x_test_pred)\n",
    "print(f\"train matrix: {cm_train}\")\n",
    "print(f\"test matrix: {cm_test}\")"
   ],
   "outputs": [
    {
     "name": "stdout",
     "output_type": "stream",
     "text": [
      "train matrix: [[75  0]\n",
      " [ 3 34]]\n",
      "test matrix: [[23  2]\n",
      " [ 1 12]]\n"
     ]
    }
   ],
   "execution_count": 13
  },
  {
   "metadata": {
    "ExecuteTime": {
     "end_time": "2024-09-19T10:18:47.236088Z",
     "start_time": "2024-09-19T10:18:47.213752Z"
    }
   },
   "cell_type": "code",
   "source": [
    "print(f\"train precision : {precision_score(y_train, x_train_pred)}\")\n",
    "print(f\"train recall : {recall_score(y_train, x_train_pred)}\")\n",
    "print(f\"test precision : {precision_score(y_test, x_test_pred)}\")\n",
    "print(f\"test recall : {recall_score(y_test, x_test_pred)}\")"
   ],
   "outputs": [
    {
     "name": "stdout",
     "output_type": "stream",
     "text": [
      "train precision : 1.0\n",
      "train recall : 0.918918918918919\n",
      "test precision : 0.8571428571428571\n",
      "test recall : 0.9230769230769231\n"
     ]
    }
   ],
   "execution_count": 14
  }
 ],
 "metadata": {
  "kernelspec": {
   "display_name": "base",
   "language": "python",
   "name": "python3"
  },
  "language_info": {
   "codemirror_mode": {
    "name": "ipython",
    "version": 3
   },
   "file_extension": ".py",
   "mimetype": "text/x-python",
   "name": "python",
   "nbconvert_exporter": "python",
   "pygments_lexer": "ipython3",
   "version": "3.12.5"
  }
 },
 "nbformat": 4,
 "nbformat_minor": 2
}
