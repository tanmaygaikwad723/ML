{
  "nbformat": 4,
  "nbformat_minor": 0,
  "metadata": {
    "colab": {
      "provenance": []
    },
    "kernelspec": {
      "name": "python3",
      "display_name": "Python 3"
    },
    "language_info": {
      "name": "python"
    }
  },
  "cells": [
    {
      "cell_type": "code",
      "execution_count": 40,
      "metadata": {
        "id": "P-RPkVRyLECx"
      },
      "outputs": [],
      "source": [
        "import numpy as np\n",
        "import pandas as pd\n",
        "import random\n",
        "from sklearn.datasets import make_regression"
      ]
    },
    {
      "cell_type": "code",
      "source": [
        "x, y = make_regression(n_samples=100, n_features=2, noise=80, random_state=42)"
      ],
      "metadata": {
        "id": "Okrk0E3qLaoo"
      },
      "execution_count": 2,
      "outputs": []
    },
    {
      "cell_type": "code",
      "source": [
        "class Linear_Regression:\n",
        "\n",
        "  def __init__(self):\n",
        "    self.intercept = None\n",
        "    self.coeffecients = None\n",
        "    self.X = None\n",
        "    self.y = None\n",
        "\n",
        "  def fit(self, x, y, eta=0.001):\n",
        "    self.X = np.array(x)\n",
        "    self.y = y.reshape(self.X.shape[0], 1)\n",
        "    self.intercept = random.sample(range(0, 10), 1)[0]\n",
        "    self.coeffecients = np.array(random.sample(range(0, 10), self.X.shape[1])).reshape(self.X.shape[1], 1)\n",
        "    costs_iterated = np.array([])\n",
        "    weights_iterated = []\n",
        "    for i in range(1000):\n",
        "      ypred = self.X @ self.coeffecients + self.intercept\n",
        "      self.intercept = self.intercept - (0.25 *(1/self.X.shape[0])*np.sum(ypred - self.y))\n",
        "      self.coeffecients = self.coeffecients - (0.25 * (1/self.X.shape[0])*(self.X.T @ (ypred - self.y)))\n",
        "      cost = (1/(2*self.X.shape[0]))*np.sum(np.square((self.X @ self.coeffecients + self.intercept) - y))\n",
        "      weights_iterated.append([self.intercept, self.coeffecients])\n",
        "      costs_iterated = np.append(costs_iterated, cost)\n",
        "      indice = np.argmin(costs_iterated)\n",
        "      self.intercept = weights_iterated[indice][0]\n",
        "      self.coeffecients = weights_iterated[indice][1]\n",
        "    return self.intercept, self.coeffecients\n",
        "\n",
        "  def predict(self, x):\n",
        "     return x @ self.coeffecients + self.intercept"
      ],
      "metadata": {
        "id": "ftpesySiWfcj"
      },
      "execution_count": 36,
      "outputs": []
    },
    {
      "cell_type": "code",
      "source": [
        "lr = Linear_Regression()"
      ],
      "metadata": {
        "id": "eCaMdRFzm9TC"
      },
      "execution_count": 37,
      "outputs": []
    },
    {
      "cell_type": "markdown",
      "source": [],
      "metadata": {
        "id": "w3meIU5YP59-"
      }
    },
    {
      "cell_type": "code",
      "source": [
        "lr.fit(x, y)"
      ],
      "metadata": {
        "colab": {
          "base_uri": "https://localhost:8080/"
        },
        "id": "rrba33nyrrny",
        "outputId": "95141ca3-952e-4378-8011-1dcc9d131371"
      },
      "execution_count": 38,
      "outputs": [
        {
          "output_type": "execute_result",
          "data": {
            "text/plain": [
              "(1.730864063839916,\n",
              " array([[73.85949033],\n",
              "        [74.39600067]]))"
            ]
          },
          "metadata": {},
          "execution_count": 38
        }
      ]
    },
    {
      "cell_type": "code",
      "source": [
        "estimates = np.array([65.32, 23.46])\n",
        "lr.predict(estimates)"
      ],
      "metadata": {
        "colab": {
          "base_uri": "https://localhost:8080/"
        },
        "id": "yX6PM3furxaU",
        "outputId": "19773e1b-2882-41d4-e134-34d8982120eb"
      },
      "execution_count": 39,
      "outputs": [
        {
          "output_type": "execute_result",
          "data": {
            "text/plain": [
              "array([6571.56294822])"
            ]
          },
          "metadata": {},
          "execution_count": 39
        }
      ]
    },
    {
      "cell_type": "code",
      "source": [],
      "metadata": {
        "id": "y5TuJ8pNuVQY"
      },
      "execution_count": null,
      "outputs": []
    }
  ]
}