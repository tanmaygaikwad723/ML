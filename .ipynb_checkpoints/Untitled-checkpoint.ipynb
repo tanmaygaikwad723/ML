{
 "cells": [
  {
   "cell_type": "code",
   "execution_count": 2,
   "id": "efe2da41-8b0c-46cc-bea1-b7f06947e2da",
   "metadata": {},
   "outputs": [],
   "source": [
    "import numpy as np"
   ]
  },
  {
   "cell_type": "code",
   "execution_count": 2,
   "id": "2cbd9652-2bfd-4944-939a-38554ed549d5",
   "metadata": {},
   "outputs": [],
   "source": [
    "cat = np.full(shape=(3,5), fill_value=\"cat\")"
   ]
  },
  {
   "cell_type": "code",
   "execution_count": 3,
   "id": "16f8565f-9b1b-4c3e-a5ee-00539dde9456",
   "metadata": {},
   "outputs": [
    {
     "data": {
      "text/plain": [
       "array([['cat', 'cat', 'cat', 'cat', 'cat'],\n",
       "       ['cat', 'cat', 'cat', 'cat', 'cat'],\n",
       "       ['cat', 'cat', 'cat', 'cat', 'cat']], dtype='<U3')"
      ]
     },
     "execution_count": 3,
     "metadata": {},
     "output_type": "execute_result"
    }
   ],
   "source": [
    "cat"
   ]
  },
  {
   "cell_type": "code",
   "execution_count": 5,
   "id": "f11c3947-9d5d-4d66-9e7d-ef4c96a8ca81",
   "metadata": {},
   "outputs": [
    {
     "data": {
      "text/plain": [
       "array([0, 2, 4, 6, 8])"
      ]
     },
     "execution_count": 5,
     "metadata": {},
     "output_type": "execute_result"
    }
   ],
   "source": [
    "np.arange(start=0, stop=10, step=2)"
   ]
  },
  {
   "cell_type": "code",
   "execution_count": 8,
   "id": "4f2f7875-6a2b-47d9-80a2-b3e6eeb89bfd",
   "metadata": {},
   "outputs": [
    {
     "data": {
      "text/plain": [
       "array([[3, 4, 8, 8, 9],\n",
       "       [8, 7, 4, 2, 3],\n",
       "       [2, 7, 7, 7, 8]])"
      ]
     },
     "execution_count": 8,
     "metadata": {},
     "output_type": "execute_result"
    }
   ],
   "source": [
    "np.random.randint(low=1, high=10, size=(3, 5))"
   ]
  },
  {
   "cell_type": "code",
   "execution_count": 10,
   "id": "d36a4255-e56d-4ecc-938c-f90c9b3c837e",
   "metadata": {},
   "outputs": [],
   "source": [
    "range_arr = np.arange(20)"
   ]
  },
  {
   "cell_type": "code",
   "execution_count": 11,
   "id": "2c6a0e98-40ac-48be-a903-16383efd8da6",
   "metadata": {},
   "outputs": [
    {
     "data": {
      "text/plain": [
       "array([ 0,  1,  2,  3,  4,  5,  6,  7,  8,  9, 10, 11, 12, 13, 14, 15, 16,\n",
       "       17, 18, 19])"
      ]
     },
     "execution_count": 11,
     "metadata": {},
     "output_type": "execute_result"
    }
   ],
   "source": [
    "range_arr"
   ]
  },
  {
   "cell_type": "code",
   "execution_count": 12,
   "id": "ab77fb94-c5d5-47d4-907b-dc01fc9448a2",
   "metadata": {},
   "outputs": [],
   "source": [
    "range_arr[[0, 5, 8]] = [45, 56, 32]"
   ]
  },
  {
   "cell_type": "code",
   "execution_count": 13,
   "id": "70b603ca-8b46-435d-8d60-a277ec491062",
   "metadata": {},
   "outputs": [
    {
     "data": {
      "text/plain": [
       "array([45,  1,  2,  3,  4, 56,  6,  7, 32,  9, 10, 11, 12, 13, 14, 15, 16,\n",
       "       17, 18, 19])"
      ]
     },
     "execution_count": 13,
     "metadata": {},
     "output_type": "execute_result"
    }
   ],
   "source": [
    "range_arr"
   ]
  },
  {
   "cell_type": "code",
   "execution_count": 4,
   "id": "9854f233-8882-434d-9946-985c3baa49eb",
   "metadata": {},
   "outputs": [
    {
     "data": {
      "text/plain": [
       "array([[8, 9],\n",
       "       [6, 8]])"
      ]
     },
     "execution_count": 4,
     "metadata": {},
     "output_type": "execute_result"
    }
   ],
   "source": [
    "foo = np.array([[2, 4], [3, 6]])\n",
    "bar = np.array([[6, 5], [3, 2]])\n",
    "foo + bar"
   ]
  },
  {
   "cell_type": "code",
   "execution_count": 9,
   "id": "b2a70aa6-daea-4a28-a0bf-6a614d48a162",
   "metadata": {},
   "outputs": [
    {
     "data": {
      "text/plain": [
       "array([[24, 18],\n",
       "       [36, 27]])"
      ]
     },
     "execution_count": 9,
     "metadata": {},
     "output_type": "execute_result"
    }
   ],
   "source": [
    "foo @ bar"
   ]
  },
  {
   "cell_type": "code",
   "execution_count": 15,
   "id": "92213df3-dde7-4306-a2fe-02708be71ff5",
   "metadata": {},
   "outputs": [],
   "source": [
    "x1 = np.random.randint(low=0, high=200, size=(100, 1))\n",
    "x2 = np.random.randint(low=0, high=200, size=(100, 1))\n",
    "y = (4.32 * x1) + (6.32 * x2) + 1.36"
   ]
  },
  {
   "cell_type": "code",
   "execution_count": null,
   "id": "c209ce02-34c1-4af7-a6cd-76fe9175f10d",
   "metadata": {},
   "outputs": [],
   "source": []
  },
  {
   "cell_type": "code",
   "execution_count": 18,
   "id": "6899ecdb-e2a6-40d9-a8d8-89e25c78ceb6",
   "metadata": {},
   "outputs": [],
   "source": [
    "dailywt = 105 - np.arange(5*7)/5"
   ]
  },
  {
   "cell_type": "code",
   "execution_count": 20,
   "id": "0885e668-363e-4d57-9119-f6225e63cb73",
   "metadata": {},
   "outputs": [
    {
     "data": {
      "text/plain": [
       "array([105. , 104.8, 104.6, 104.4, 104.2, 104. , 103.8, 103.6, 103.4,\n",
       "       103.2, 103. , 102.8, 102.6, 102.4, 102.2, 102. , 101.8, 101.6,\n",
       "       101.4, 101.2, 101. , 100.8, 100.6, 100.4, 100.2, 100. ,  99.8,\n",
       "        99.6,  99.4,  99.2,  99. ,  98.8,  98.6,  98.4,  98.2])"
      ]
     },
     "execution_count": 20,
     "metadata": {},
     "output_type": "execute_result"
    }
   ],
   "source": [
    "dailywt"
   ]
  },
  {
   "cell_type": "code",
   "execution_count": 21,
   "id": "c5e3a2d7-ab51-49b7-af50-d2ea7e354598",
   "metadata": {},
   "outputs": [],
   "source": [
    "wkndwt = (dailywt[5::7] + dailywt[6::7])/2"
   ]
  },
  {
   "cell_type": "code",
   "execution_count": 22,
   "id": "c8a0e584-65e7-409b-99d2-2b54446596a5",
   "metadata": {},
   "outputs": [
    {
     "data": {
      "text/plain": [
       "array([103.9, 102.5, 101.1,  99.7,  98.3])"
      ]
     },
     "execution_count": 22,
     "metadata": {},
     "output_type": "execute_result"
    }
   ],
   "source": [
    "wkndwt"
   ]
  },
  {
   "cell_type": "code",
   "execution_count": 23,
   "id": "eb4d63bc-8eee-49a6-a168-1dec7d004d2a",
   "metadata": {},
   "outputs": [],
   "source": [
    "np.random.seed(5555)\n",
    "gold = np.random.randint(low=0, high=10, size=(7,7))"
   ]
  },
  {
   "cell_type": "code",
   "execution_count": 25,
   "id": "9811bc2b-4714-4d5d-afac-2a08e47fa0b8",
   "metadata": {},
   "outputs": [],
   "source": [
    "locs = np.array([\n",
    "    [0, 4],\n",
    "    [2, 2],\n",
    "    [2, 3],\n",
    "    [5, 1],\n",
    "    [6, 3]])"
   ]
  },
  {
   "cell_type": "code",
   "execution_count": 42,
   "id": "b5c22e5b-cf11-406e-9f6c-90b44b4ff742",
   "metadata": {},
   "outputs": [],
   "source": [
    "goldloc = gold[locs[:,0], locs[:,1]]"
   ]
  },
  {
   "cell_type": "code",
   "execution_count": 43,
   "id": "8f370a30-2ec0-4653-bb4c-49a850de0451",
   "metadata": {},
   "outputs": [
    {
     "data": {
      "text/plain": [
       "array([2, 6, 2, 8, 2])"
      ]
     },
     "execution_count": 43,
     "metadata": {},
     "output_type": "execute_result"
    }
   ],
   "source": [
    "goldloc"
   ]
  },
  {
   "cell_type": "code",
   "execution_count": 44,
   "id": "860282bf-e5c7-4c02-ac15-eb249e268611",
   "metadata": {},
   "outputs": [
    {
     "data": {
      "text/plain": [
       "array([[2, 3, 0, 5, 2, 0, 3],\n",
       "       [8, 8, 0, 7, 1, 5, 3],\n",
       "       [0, 1, 6, 2, 1, 4, 5],\n",
       "       [4, 0, 8, 9, 9, 8, 7],\n",
       "       [4, 2, 7, 0, 7, 2, 1],\n",
       "       [9, 8, 9, 2, 5, 0, 8],\n",
       "       [1, 9, 8, 2, 6, 4, 3]])"
      ]
     },
     "execution_count": 44,
     "metadata": {},
     "output_type": "execute_result"
    }
   ],
   "source": [
    "gold"
   ]
  },
  {
   "cell_type": "code",
   "execution_count": 48,
   "id": "04dcb497-24dc-4280-afe5-fa04c266ece7",
   "metadata": {},
   "outputs": [],
   "source": [
    "billboards = np.linspace(start=17, stop=28, num=3)"
   ]
  },
  {
   "cell_type": "code",
   "execution_count": 49,
   "id": "1ba8ad16-8c3f-4a89-8dfd-d12da0e3fdde",
   "metadata": {},
   "outputs": [],
   "source": [
    "billboards2 = np.linspace(start=32, stop=36, num=3)"
   ]
  },
  {
   "cell_type": "code",
   "execution_count": 56,
   "id": "b947e2f0-e6ff-486d-bd8c-81c18af48bac",
   "metadata": {},
   "outputs": [],
   "source": [
    "billboards = np.append(billboards, billboards2)"
   ]
  },
  {
   "cell_type": "code",
   "execution_count": 51,
   "id": "2b6ce602-d2dd-4735-994e-3b7fe089fa60",
   "metadata": {},
   "outputs": [],
   "source": [
    "boardsname = np.array([\"a\", 'b', 'c', 'c', 'b', 'a'])"
   ]
  },
  {
   "cell_type": "code",
   "execution_count": 61,
   "id": "854d7112-a812-40ec-89f3-f0683e940d8d",
   "metadata": {},
   "outputs": [],
   "source": [
    "distance = np.abs(30 - billboards[boardsname == 'c'])"
   ]
  },
  {
   "cell_type": "code",
   "execution_count": 60,
   "id": "e0408208-f631-4e7a-86b9-862c1dbc8cd1",
   "metadata": {},
   "outputs": [
    {
     "data": {
      "text/plain": [
       "array([17. , 22.5, 28. , 32. , 34. , 36. ])"
      ]
     },
     "execution_count": 60,
     "metadata": {},
     "output_type": "execute_result"
    }
   ],
   "source": [
    "billboards"
   ]
  },
  {
   "cell_type": "code",
   "execution_count": 62,
   "id": "cce585a8-05f3-43c1-8f24-000254ed2b82",
   "metadata": {},
   "outputs": [
    {
     "data": {
      "text/plain": [
       "array([2., 2.])"
      ]
     },
     "execution_count": 62,
     "metadata": {},
     "output_type": "execute_result"
    }
   ],
   "source": [
    "distance"
   ]
  },
  {
   "cell_type": "code",
   "execution_count": 3,
   "id": "e4c23696-a60d-47f2-81b3-08a4a24db97d",
   "metadata": {},
   "outputs": [
    {
     "data": {
      "text/plain": [
       "array([4, 5, 6])"
      ]
     },
     "execution_count": 3,
     "metadata": {},
     "output_type": "execute_result"
    }
   ],
   "source": [
    "np.random.randint(low=1, high=7, size=3)"
   ]
  },
  {
   "cell_type": "code",
   "execution_count": 11,
   "id": "766fa22a-afd6-45e3-b72d-aec03b762bfd",
   "metadata": {},
   "outputs": [
    {
     "data": {
      "text/plain": [
       "2"
      ]
     },
     "execution_count": 11,
     "metadata": {},
     "output_type": "execute_result"
    }
   ],
   "source": [
    "np.random.choice( \n",
    "    a = np.arange(7),\n",
    "    replace = True,\n",
    "    p = None )"
   ]
  },
  {
   "cell_type": "code",
   "execution_count": 23,
   "id": "a28ecb3d-1ae0-48a6-a4cc-b8515cf3bc86",
   "metadata": {},
   "outputs": [
    {
     "data": {
      "text/plain": [
       "(10, 1)"
      ]
     },
     "execution_count": 23,
     "metadata": {},
     "output_type": "execute_result"
    }
   ],
   "source": [
    "lscore1 = np.random.randint(low=0, high=100, size=10).reshape(10, 1)\n",
    "lscore1.shape"
   ]
  },
  {
   "cell_type": "code",
   "execution_count": 18,
   "id": "798cb887-1ccd-4331-8a50-16c1a11cef3d",
   "metadata": {},
   "outputs": [],
   "source": [
    "lscore2 = np.random.randint(low=0, high=100, size=10)"
   ]
  },
  {
   "cell_type": "code",
   "execution_count": 24,
   "id": "bc6a71a4-bd36-4373-8dba-e6e6067be842",
   "metadata": {},
   "outputs": [],
   "source": [
    "lscorematrix = lscore1 - lscore1.T"
   ]
  },
  {
   "cell_type": "code",
   "execution_count": 25,
   "id": "fa47e06e-9387-4121-a5d4-14260951b9a4",
   "metadata": {},
   "outputs": [
    {
     "data": {
      "text/plain": [
       "array([[  0, -54,   5,  19,   8,  11,  -1,  -6, -37, -38],\n",
       "       [ 54,   0,  59,  73,  62,  65,  53,  48,  17,  16],\n",
       "       [ -5, -59,   0,  14,   3,   6,  -6, -11, -42, -43],\n",
       "       [-19, -73, -14,   0, -11,  -8, -20, -25, -56, -57],\n",
       "       [ -8, -62,  -3,  11,   0,   3,  -9, -14, -45, -46],\n",
       "       [-11, -65,  -6,   8,  -3,   0, -12, -17, -48, -49],\n",
       "       [  1, -53,   6,  20,   9,  12,   0,  -5, -36, -37],\n",
       "       [  6, -48,  11,  25,  14,  17,   5,   0, -31, -32],\n",
       "       [ 37, -17,  42,  56,  45,  48,  36,  31,   0,  -1],\n",
       "       [ 38, -16,  43,  57,  46,  49,  37,  32,   1,   0]])"
      ]
     },
     "execution_count": 25,
     "metadata": {},
     "output_type": "execute_result"
    }
   ],
   "source": [
    "lscorematrix"
   ]
  },
  {
   "cell_type": "code",
   "execution_count": 35,
   "id": "865f80c8-fb9c-4204-b75e-73b18cb676ce",
   "metadata": {},
   "outputs": [],
   "source": [
    "scores = np.random.randint(low=0, high=100, size=(1, 10))"
   ]
  },
  {
   "cell_type": "code",
   "execution_count": 49,
   "id": "b8ea2d19-f98e-4a34-91a5-7380f588166f",
   "metadata": {},
   "outputs": [
    {
     "data": {
      "text/plain": [
       "array([[ True, False,  True,  True,  True, False,  True,  True,  True,\n",
       "         True]])"
      ]
     },
     "execution_count": 49,
     "metadata": {},
     "output_type": "execute_result"
    }
   ],
   "source": []
  },
  {
   "cell_type": "code",
   "execution_count": 42,
   "id": "fe34437e-6fe5-47fc-9848-f7c2a91b3b5d",
   "metadata": {},
   "outputs": [
    {
     "data": {
      "text/plain": [
       "array([[31, 62, 11, 15, 48, 81, 16, 50, 19, 45]])"
      ]
     },
     "execution_count": 42,
     "metadata": {},
     "output_type": "execute_result"
    }
   ],
   "source": [
    "scores"
   ]
  },
  {
   "cell_type": "code",
   "execution_count": 51,
   "id": "28ce4212-5d4b-4888-a1ad-35c8aad53fcf",
   "metadata": {},
   "outputs": [],
   "source": [
    "locarray = np.zeros(shape=(10, 10))"
   ]
  },
  {
   "cell_type": "code",
   "execution_count": 53,
   "id": "8d847346-ca07-4694-8280-abc57939cff5",
   "metadata": {},
   "outputs": [],
   "source": [
    "randvalues = np.random.randint(low=1, high=20, size=(1, 20))"
   ]
  },
  {
   "cell_type": "code",
   "execution_count": 65,
   "id": "df28886f-5ed7-4d12-a0aa-5c0151e574bf",
   "metadata": {},
   "outputs": [
    {
     "ename": "TypeError",
     "evalue": "choice() got an unexpected keyword argument 'b'",
     "output_type": "error",
     "traceback": [
      "\u001b[0;31m---------------------------------------------------------------------------\u001b[0m",
      "\u001b[0;31mTypeError\u001b[0m                                 Traceback (most recent call last)",
      "Cell \u001b[0;32mIn[65], line 1\u001b[0m\n\u001b[0;32m----> 1\u001b[0m locindicesrows \u001b[38;5;241m=\u001b[39m np\u001b[38;5;241m.\u001b[39mrandom\u001b[38;5;241m.\u001b[39mchoice(\n\u001b[1;32m      2\u001b[0m     a \u001b[38;5;241m=\u001b[39m np\u001b[38;5;241m.\u001b[39marange(\u001b[38;5;241m10\u001b[39m),\n\u001b[1;32m      3\u001b[0m     b \u001b[38;5;241m=\u001b[39m np\u001b[38;5;241m.\u001b[39marange(\u001b[38;5;241m10\u001b[39m),\n\u001b[1;32m      4\u001b[0m     replace \u001b[38;5;241m=\u001b[39m \u001b[38;5;28;01mFalse\u001b[39;00m,\n\u001b[1;32m      5\u001b[0m     p \u001b[38;5;241m=\u001b[39m \u001b[38;5;28;01mNone\u001b[39;00m,\n\u001b[1;32m      6\u001b[0m     size \u001b[38;5;241m=\u001b[39m (\u001b[38;5;241m2\u001b[39m, \u001b[38;5;241m20\u001b[39m))\n",
      "File \u001b[0;32mnumpy/random/mtrand.pyx:841\u001b[0m, in \u001b[0;36mnumpy.random.mtrand.RandomState.choice\u001b[0;34m()\u001b[0m\n",
      "\u001b[0;31mTypeError\u001b[0m: choice() got an unexpected keyword argument 'b'"
     ]
    }
   ],
   "source": [
    "locindicesrows = np.random.choice(\n",
    "    a = np.arange(10),\n",
    "    replace = False,\n",
    "    p = None,\n",
    "    size = (2, 20))"
   ]
  },
  {
   "cell_type": "code",
   "execution_count": 59,
   "id": "f5ce1dee-5fb4-4436-a8bf-caad4bbc1b9a",
   "metadata": {},
   "outputs": [],
   "source": []
  },
  {
   "cell_type": "code",
   "execution_count": 60,
   "id": "7536f6b4-4567-4024-8f94-a9deaec5a755",
   "metadata": {},
   "outputs": [],
   "source": [
    "locarray[locindicesrows, locindicecol] = randvalues"
   ]
  },
  {
   "cell_type": "code",
   "execution_count": 61,
   "id": "bac7c9c0-a24e-4d32-b725-8836fd7c0303",
   "metadata": {},
   "outputs": [
    {
     "data": {
      "text/plain": [
       "array([[ 0.,  5.,  5.,  0.,  0.,  5.,  0.,  0.,  0.,  0.],\n",
       "       [ 0.,  0.,  0.,  0.,  0.,  0.,  0.,  0.,  0.,  0.],\n",
       "       [ 0.,  0.,  0., 14.,  0.,  0.,  0.,  0.,  0.,  0.],\n",
       "       [ 2.,  0.,  0., 17.,  0., 17.,  0.,  0.,  0.,  0.],\n",
       "       [ 0.,  0.,  0.,  0.,  0.,  0.,  0.,  0.,  0.,  0.],\n",
       "       [ 0., 11., 14.,  0.,  0.,  9.,  0.,  5., 16.,  0.],\n",
       "       [ 0.,  0.,  0.,  0.,  0.,  0.,  4.,  0.,  0.,  5.],\n",
       "       [16.,  0.,  0.,  0.,  0.,  0.,  0.,  0.,  0.,  0.],\n",
       "       [ 0.,  0.,  0.,  4.,  0.,  0., 16.,  0.,  0.,  0.],\n",
       "       [ 0.,  0.,  0.,  0., 16.,  0.,  0.,  0.,  0.,  0.]])"
      ]
     },
     "execution_count": 61,
     "metadata": {},
     "output_type": "execute_result"
    }
   ],
   "source": [
    "locarray"
   ]
  },
  {
   "cell_type": "code",
   "execution_count": 64,
   "id": "c8ff2c4a-384c-4bbf-9e8c-8dcd8d2e4e10",
   "metadata": {},
   "outputs": [
    {
     "data": {
      "text/plain": [
       "(array([0, 0, 0, 2, 3, 3, 3, 5, 5, 5, 5, 5, 6, 6, 7, 8, 8, 9]),\n",
       " array([1, 2, 5, 3, 0, 3, 5, 1, 2, 5, 7, 8, 6, 9, 0, 3, 6, 4]))"
      ]
     },
     "execution_count": 64,
     "metadata": {},
     "output_type": "execute_result"
    }
   ],
   "source": [
    "locarray.nonzero()"
   ]
  },
  {
   "cell_type": "code",
   "execution_count": null,
   "id": "04c377dc-1410-4d92-978c-98738e72c77f",
   "metadata": {},
   "outputs": [],
   "source": []
  }
 ],
 "metadata": {
  "kernelspec": {
   "display_name": "Python 3 (ipykernel)",
   "language": "python",
   "name": "python3"
  },
  "language_info": {
   "codemirror_mode": {
    "name": "ipython",
    "version": 3
   },
   "file_extension": ".py",
   "mimetype": "text/x-python",
   "name": "python",
   "nbconvert_exporter": "python",
   "pygments_lexer": "ipython3",
   "version": "3.11.7"
  }
 },
 "nbformat": 4,
 "nbformat_minor": 5
}
